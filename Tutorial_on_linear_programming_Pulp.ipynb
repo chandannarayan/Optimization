{
 "cells": [
  {
   "cell_type": "markdown",
   "metadata": {},
   "source": [
    "## Tutorial on Pulp \n",
    "\n",
    "\n",
    "### Linear Programming and integer programming are widely used techniques in the field of diceret optimization. They generally dominates all the sectors like bussiness, finance, autmobiles transportation etc... Due to its wide applicablity, it is necessary to know how to model the problems of linear programming and how we can solve it using modern softwares and technologies. This tutorial will be basically on modelling of linear and non linear programming and how to solve it. \n",
    "\n",
    "#### We have selected some of the libaries which are quiet easy to use and can model the linear programming easily. \n",
    "#### To solve such problems easily we will conside three libraries \n",
    "1.pulp\n",
    "\n",
    "2.scipy \n",
    "\n",
    "3.cvxopt\n",
    "\n",
    "##### In this part of tutorial we will cover pulp"
   ]
  },
  {
   "cell_type": "markdown",
   "metadata": {},
   "source": [
    "#### Cash flow matching LP problem \n",
    "##### Project funding example \n",
    "\n",
    "\n",
    "#### Problem statement \n",
    "A company is planning a 3-year renovation of its facilities and would like to Ænance the project by buying bonds in the year 1998.  A management study has estimated the following cash requirements for the project:\n",
    "\n",
    "Cash Requirement in milions = $\\begin{pmatrix} Year1 & Year2 & Year3 \\\\\n",
    "----- & -----& ----- \\\\\n",
    "1991 & 2000 & 2001\\\\\n",
    "20 & 30 & 40 \n",
    "\\end{pmatrix}$\n",
    "\n",
    "#### The investment committee is considering four government bonds for possible purchase.  The price and cash flows of the bonds are:\n",
    "\n",
    "#### Bond Cash Flow\n",
    "\n",
    "$\\begin{pmatrix} bonds & 1998 & 1991 & 2000 & 2001 \\\\\n",
    "----- & -----& -----&-----& ----- \\\\\n",
    "Bond1 & -1.04 & 0.05 & 0.05 & 1.05 \\\\\n",
    "Bond2 & -1.00 & 0.04 & 1.04 \\\\\n",
    "Bond3 & -0.98 & 1.00\\\\\n",
    "Bond4 & -0.92 & 0.00 & 1.00\\\\\n",
    "\\end{pmatrix}$\n",
    "\n",
    "\n",
    "#### What is the least expensive portfolio of bonds whose cash flows equal or exceed the requirements for the project?\n",
    "\n",
    "### Decision variable :- # of bonds to be purchased today of each kind  - $x_{j}$. \n",
    "\n",
    "\n",
    "#### Objective function: Minimize the total cost of the bond portfolio\n",
    "$ min: 1.04 x_{1}+ 1.00 x_{2} + 0.98 x_{3}+ 0.92 x_{4} $\n",
    "\n",
    "#### Subject to \n",
    "$0.05 x_{1}+ 0.04 x_{2} + x_{3} >= 20 $ (1999)\n",
    "\n",
    "$0.05 x_{1}+ 1.04 x_{2} + x_{4} >= 30 $ (2000)\n",
    "\n",
    "$1.05 x_{1} >= 40$ (2001)\n",
    "\n",
    "$ x_{j} \\geq 0 $ for $j = 1,2,3,4$\n"
   ]
  },
  {
   "cell_type": "code",
   "execution_count": null,
   "metadata": {},
   "outputs": [],
   "source": [
    "# to start with first we have to install pulp\n",
    "#command to install pulp library \n",
    "!pip install pulp"
   ]
  },
  {
   "cell_type": "code",
   "execution_count": 5,
   "metadata": {},
   "outputs": [],
   "source": [
    "#Importing all the required libraries \n",
    "\n",
    "%matplotlib inline\n",
    "import pulp as p \n",
    "import matplotlib.pyplot as plt #it is used for creating scatter line bars, charts, figure, scatter plots etc.\n",
    "import numpy as np # a whole-some package for performing basic scientific operations. "
   ]
  },
  {
   "cell_type": "markdown",
   "metadata": {},
   "source": [
    "#### Tutorial on matplotlib  <a href = https://www.tutorialspoint.com/matplotlib/matplotlib_pyplot_api.htm> here </a>"
   ]
  },
  {
   "cell_type": "markdown",
   "metadata": {},
   "source": [
    "#### Brief explanation on working of the functions\n",
    "##### 1. First importing the library as p\n",
    "##### 2. LpProblem is a function defined in the pulp, having two parameters name and declaration of maximize/minimizing of function\n",
    "##### 3. LpVariable hold the variables of the objective functions. lower and upper bound of a variable can be defined,\n",
    "##### 4. if not defined then default value will be taken\n",
    "##### 5. Lp_prob represents the objective function in terms of defined variables \n",
    "##### 6. It holds all informtaion regarding variables and the problem \n",
    "##### 7. using + sign will store the variables and its coefficients in there respective slots "
   ]
  },
  {
   "cell_type": "code",
   "execution_count": 12,
   "metadata": {},
   "outputs": [
    {
     "name": "stdout",
     "output_type": "stream",
     "text": [
      "Cashflow_Problem:\n",
      "MINIMIZE\n",
      "0.92*w + 1.04*x + 1*y + 0.98*z + 0.0\n",
      "SUBJECT TO\n",
      "_C1: 0.05 x + 0.04 y + z >= 20\n",
      "\n",
      "_C2: w + 0.05 x + 1.04 y >= 30\n",
      "\n",
      "_C3: 1.05 x >= 40\n",
      "\n",
      "VARIABLES\n",
      "w Continuous\n",
      "x Continuous\n",
      "y Continuous\n",
      "z Continuous\n",
      "\n",
      "Optimal\n",
      "38.095238 0.0 18.095238 28.095238 83.19999972\n"
     ]
    }
   ],
   "source": [
    "Lp_prob = p.LpProblem('Cashflow_Problem', p.LpMinimize) \n",
    "   \n",
    "    # Create problem Variables  \n",
    "x = p.LpVariable(\"x\", lowBound = 0)   # Create a variable x >= 0 \n",
    "y = p.LpVariable(\"y\", lowBound = 0)   # Create a variable y >= 0   \n",
    "z = p.LpVariable(\"z\", lowBound = 0)   # Create a variable z >= 0 \n",
    "w = p.LpVariable(\"w\", lowBound = 0)   # Create a variable w >= 0   \n",
    "\n",
    "# Objective Function \n",
    "Lp_prob += 1.04 * x + y + 0.98* z+0.92*w  # x, and y are defined variables \n",
    "  \n",
    "# Constraints: \n",
    "Lp_prob += 0.05 * x + 0.04 * y+ z >= 20\n",
    "Lp_prob +=  0.05 * x+ 1.04 * y + w>= 30\n",
    "Lp_prob += 1.05*x >= 40\n",
    "    \n",
    "# Display the problem \n",
    "print(Lp_prob) \n",
    "  \n",
    "status = Lp_prob.solve()   # Calling the default Solver  (CBC - coin or branch and cut)\n",
    "print(p.LpStatus[status])   # The solution status  if 1-optimal, 0- no solution \n",
    "  \n",
    "# Printing the final solution \n",
    "print(p.value(x), p.value(y), p.value(z), p.value(w),p.value(Lp_prob.objective)) "
   ]
  },
  {
   "cell_type": "code",
   "execution_count": null,
   "metadata": {},
   "outputs": [],
   "source": []
  },
  {
   "cell_type": "code",
   "execution_count": null,
   "metadata": {},
   "outputs": [],
   "source": []
  }
 ],
 "metadata": {
  "kernelspec": {
   "display_name": "Python 3",
   "language": "python",
   "name": "python3"
  },
  "language_info": {
   "codemirror_mode": {
    "name": "ipython",
    "version": 3
   },
   "file_extension": ".py",
   "mimetype": "text/x-python",
   "name": "python",
   "nbconvert_exporter": "python",
   "pygments_lexer": "ipython3",
   "version": "3.7.1"
  }
 },
 "nbformat": 4,
 "nbformat_minor": 2
}
