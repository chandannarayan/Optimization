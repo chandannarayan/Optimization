{
 "cells": [
  {
   "cell_type": "markdown",
   "metadata": {},
   "source": [
    "#### Minimze: 13A+23B\n",
    "#### Subjet to: \n",
    "$5A+15B<=480$ (corn) &nbsp;\n",
    "\n",
    "$4A+4B<=160$  (Hops) &nbsp;\n",
    "\n",
    "$35A+20B <=1190$ (malt)\n",
    "\n",
    "$A>=0$\n",
    "\n",
    "$B>=0$"
   ]
  },
  {
   "cell_type": "code",
   "execution_count": 1,
   "metadata": {},
   "outputs": [
    {
     "name": "stdout",
     "output_type": "stream",
     "text": [
      "Requirement already satisfied: pulp in c:\\programdata\\anaconda3\\lib\\site-packages (2.3)\n",
      "Requirement already satisfied: amply>=0.1.2 in c:\\programdata\\anaconda3\\lib\\site-packages (from pulp) (0.1.2)\n",
      "Requirement already satisfied: docutils>=0.3 in c:\\programdata\\anaconda3\\lib\\site-packages (from amply>=0.1.2->pulp) (0.14)\n",
      "Requirement already satisfied: pyparsing in c:\\programdata\\anaconda3\\lib\\site-packages (from amply>=0.1.2->pulp) (2.3.0)\n"
     ]
    },
    {
     "name": "stderr",
     "output_type": "stream",
     "text": [
      "WARNING: pip is being invoked by an old script wrapper. This will fail in a future version of pip.\n",
      "Please see https://github.com/pypa/pip/issues/5599 for advice on fixing the underlying issue.\n",
      "To avoid this problem you can invoke Python with '-m pip' instead of running pip directly.\n",
      "WARNING: You are using pip version 20.2.1; however, version 20.2.2 is available.\n",
      "You should consider upgrading via the 'C:\\ProgramData\\Anaconda3\\python.exe -m pip install --upgrade pip' command.\n"
     ]
    }
   ],
   "source": [
    "!pip install pulp "
   ]
  },
  {
   "cell_type": "code",
   "execution_count": 2,
   "metadata": {},
   "outputs": [],
   "source": [
    "%matplotlib inline\n",
    "import pulp as p \n",
    "import matplotlib.pyplot as plt\n",
    "import numpy as np"
   ]
  },
  {
   "cell_type": "code",
   "execution_count": 6,
   "metadata": {},
   "outputs": [
    {
     "name": "stdout",
     "output_type": "stream",
     "text": [
      "Brewers_Problem:\n",
      "MAXIMIZE\n",
      "13*A + 23*B + 0\n",
      "SUBJECT TO\n",
      "_C1: 5 A + 15 B <= 480\n",
      "\n",
      "_C2: 4 A + 4 B <= 160\n",
      "\n",
      "_C3: 35 A + 20 B <= 1190\n",
      "\n",
      "VARIABLES\n",
      "A Continuous\n",
      "B Continuous\n",
      "\n",
      "Optimal\n",
      "12.0 28.0 800.0\n"
     ]
    }
   ],
   "source": [
    " Lp_prob = p.LpProblem('Brewers_Problem', p.LpMaximize) \n",
    "   \n",
    "    # Create problem Variables  \n",
    "A = p.LpVariable(\"A\", lowBound = 0)   # Create a variable x >= 0 \n",
    "B = p.LpVariable(\"B\", lowBound = 0)   # Create a variable y >= 0   \n",
    "\n",
    "# Objective Function \n",
    "Lp_prob += 13 * A + 23 * B   # x, and y are defined variables \n",
    "  \n",
    "# Constraints: \n",
    "Lp_prob += 5 * A + 15 * B <=480 \n",
    "Lp_prob += 4*A + 4*B <= 160\n",
    "Lp_prob += 35*A + 20*B <= 1190\n",
    "    \n",
    "# Display the problem \n",
    "print(Lp_prob) \n",
    "  \n",
    "status = Lp_prob.solve()   # Calling the default Solver  (CBC - coin or branch and cut)\n",
    "print(p.LpStatus[status])   # The solution status  if 1-optimal, 0- no solution \n",
    "  \n",
    "# Printing the final solution \n",
    "print(p.value(A), p.value(B), p.value(Lp_prob.objective)) "
   ]
  },
  {
   "cell_type": "code",
   "execution_count": 9,
   "metadata": {},
   "outputs": [
    {
     "data": {
      "image/png": "[encoded data removed]",
      "text/plain": [
       "<Figure size 432x288 with 1 Axes>"
      ]
     },
     "metadata": {
      "needs_background": "light"
     },
     "output_type": "display_data"
    }
   ],
   "source": [
    "# for printing the figures\n",
    "z = np.linspace(0, 200, 100) \n",
    "# store 100 points in the range of 0, 200 in the form of list \n",
    "#Constraints\n",
    "y1 = (480-5*z)/15\n",
    "y2 = (160-4*z)/4\n",
    "y3 = (1190-35*z)/20\n",
    "\n",
    "# Make plot with the following arguments \n",
    "plt.plot(z, y1, label=r'$5A+15B\\leq480$')  \n",
    "plt.plot(z, y2, label=r'$4A+4B\\leq160$')\n",
    "plt.plot(z, y3, label=r'$35A+20B\\leq1190$')\n",
    "\n",
    "# defining the rant=ge of both the axes\n",
    "plt.xlim((0, p.value(B)+ 10)) # for ploting we will consider that argument which is maximum of all \n",
    "plt.ylim((0, p.value(B)+ 10))\n",
    "\n",
    "#Labelling X and Y axis\n",
    "plt.xlabel(r'$x$')\n",
    "plt.ylabel(r'$y$')\n",
    "# Fill feasible region\n",
    "y5 = np.minimum(y2, np.minimum(y1,y3))\n",
    "plt.fill_between(z, y5, color='pink',alpha=0.5)\n",
    "plt.legend(bbox_to_anchor=(1.5, 1), loc=5, borderaxespad=0.)\n",
    "plt.show()"
   ]
  },
  {
   "cell_type": "code",
   "execution_count": null,
   "metadata": {},
   "outputs": [],
   "source": []
  }
 ],
 "metadata": {
  "kernelspec": {
   "display_name": "Python 3",
   "language": "python",
   "name": "python3"
  },
  "language_info": {
   "codemirror_mode": {
    "name": "ipython",
    "version": 3
   },
   "file_extension": ".py",
   "mimetype": "text/x-python",
   "name": "python",
   "nbconvert_exporter": "python",
   "pygments_lexer": "ipython3",
   "version": "3.7.1"
  }
 },
 "nbformat": 4,
 "nbformat_minor": 2
}
